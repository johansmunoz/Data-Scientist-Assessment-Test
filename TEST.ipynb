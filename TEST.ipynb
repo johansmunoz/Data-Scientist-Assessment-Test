{
 "cells": [
  {
   "cell_type": "markdown",
   "id": "0a578c45",
   "metadata": {},
   "source": [
    "# Data Scientist Assessment Test - ABC Company"
   ]
  },
  {
   "cell_type": "markdown",
   "id": "f091bf60",
   "metadata": {},
   "source": [
    "*Johan Sebastian Muñoz Moyano*\n",
    "\n",
    "*jo-ha27@hotmail.com*"
   ]
  },
  {
   "cell_type": "markdown",
   "id": "83e625a8",
   "metadata": {},
   "source": [
    "**In the next .ipynb file, you are going to find the analysis of historical data and forecast of sales and human resources need for March of 2021**"
   ]
  },
  {
   "cell_type": "code",
   "execution_count": 1,
   "id": "7c2a4f9f",
   "metadata": {},
   "outputs": [
    {
     "name": "stdout",
     "output_type": "stream",
     "text": [
      "Collecting matplotlib\n",
      "  Using cached matplotlib-3.5.1-cp38-cp38-manylinux_2_5_x86_64.manylinux1_x86_64.whl (11.3 MB)\n",
      "Requirement already satisfied: python-dateutil>=2.7 in /opt/conda/lib/python3.8/site-packages (from matplotlib) (2.8.1)\n",
      "Collecting pillow>=6.2.0\n",
      "  Using cached Pillow-9.1.0-cp38-cp38-manylinux_2_17_x86_64.manylinux2014_x86_64.whl (4.3 MB)\n",
      "Collecting cycler>=0.10\n",
      "  Using cached cycler-0.11.0-py3-none-any.whl (6.4 kB)\n",
      "Collecting kiwisolver>=1.0.1\n",
      "  Using cached kiwisolver-1.4.2-cp38-cp38-manylinux_2_5_x86_64.manylinux1_x86_64.whl (1.2 MB)\n",
      "Requirement already satisfied: packaging>=20.0 in /opt/conda/lib/python3.8/site-packages (from matplotlib) (20.9)\n",
      "Collecting fonttools>=4.22.0\n",
      "  Using cached fonttools-4.33.3-py3-none-any.whl (930 kB)\n",
      "Requirement already satisfied: pyparsing>=2.2.1 in /opt/conda/lib/python3.8/site-packages (from matplotlib) (2.4.7)\n",
      "Requirement already satisfied: numpy>=1.17 in /opt/conda/lib/python3.8/site-packages (from matplotlib) (1.22.3)\n",
      "Requirement already satisfied: six>=1.5 in /opt/conda/lib/python3.8/site-packages (from python-dateutil>=2.7->matplotlib) (1.15.0)\n",
      "Installing collected packages: pillow, kiwisolver, fonttools, cycler, matplotlib\n",
      "Successfully installed cycler-0.11.0 fonttools-4.33.3 kiwisolver-1.4.2 matplotlib-3.5.1 pillow-9.1.0\n",
      "Collecting sklearn\n",
      "  Using cached sklearn-0.0-py2.py3-none-any.whl\n",
      "Collecting scikit-learn\n",
      "  Using cached scikit_learn-1.0.2-cp38-cp38-manylinux_2_17_x86_64.manylinux2014_x86_64.whl (26.7 MB)\n",
      "Collecting threadpoolctl>=2.0.0\n",
      "  Using cached threadpoolctl-3.1.0-py3-none-any.whl (14 kB)\n",
      "Requirement already satisfied: numpy>=1.14.6 in /opt/conda/lib/python3.8/site-packages (from scikit-learn->sklearn) (1.22.3)\n",
      "Collecting joblib>=0.11\n",
      "  Using cached joblib-1.1.0-py2.py3-none-any.whl (306 kB)\n",
      "Collecting scipy>=1.1.0\n",
      "  Using cached scipy-1.8.0-cp38-cp38-manylinux_2_17_x86_64.manylinux2014_x86_64.whl (41.6 MB)\n",
      "Installing collected packages: threadpoolctl, scipy, joblib, scikit-learn, sklearn\n",
      "Successfully installed joblib-1.1.0 scikit-learn-1.0.2 scipy-1.8.0 sklearn-0.0 threadpoolctl-3.1.0\n",
      "Collecting seaborn\n",
      "  Using cached seaborn-0.11.2-py3-none-any.whl (292 kB)\n",
      "Requirement already satisfied: matplotlib>=2.2 in /opt/conda/lib/python3.8/site-packages (from seaborn) (3.5.1)\n",
      "Requirement already satisfied: numpy>=1.15 in /opt/conda/lib/python3.8/site-packages (from seaborn) (1.22.3)\n",
      "Requirement already satisfied: pandas>=0.23 in /opt/conda/lib/python3.8/site-packages (from seaborn) (1.4.1)\n",
      "Requirement already satisfied: scipy>=1.0 in /opt/conda/lib/python3.8/site-packages (from seaborn) (1.8.0)\n",
      "Requirement already satisfied: packaging>=20.0 in /opt/conda/lib/python3.8/site-packages (from matplotlib>=2.2->seaborn) (20.9)\n",
      "Requirement already satisfied: kiwisolver>=1.0.1 in /opt/conda/lib/python3.8/site-packages (from matplotlib>=2.2->seaborn) (1.4.2)\n",
      "Requirement already satisfied: cycler>=0.10 in /opt/conda/lib/python3.8/site-packages (from matplotlib>=2.2->seaborn) (0.11.0)\n",
      "Requirement already satisfied: python-dateutil>=2.7 in /opt/conda/lib/python3.8/site-packages (from matplotlib>=2.2->seaborn) (2.8.1)\n",
      "Requirement already satisfied: fonttools>=4.22.0 in /opt/conda/lib/python3.8/site-packages (from matplotlib>=2.2->seaborn) (4.33.3)\n",
      "Requirement already satisfied: pillow>=6.2.0 in /opt/conda/lib/python3.8/site-packages (from matplotlib>=2.2->seaborn) (9.1.0)\n",
      "Requirement already satisfied: pyparsing>=2.2.1 in /opt/conda/lib/python3.8/site-packages (from matplotlib>=2.2->seaborn) (2.4.7)\n",
      "Requirement already satisfied: pytz>=2020.1 in /opt/conda/lib/python3.8/site-packages (from pandas>=0.23->seaborn) (2021.1)\n",
      "Requirement already satisfied: six>=1.5 in /opt/conda/lib/python3.8/site-packages (from python-dateutil>=2.7->matplotlib>=2.2->seaborn) (1.15.0)\n",
      "Installing collected packages: seaborn\n",
      "Successfully installed seaborn-0.11.2\n"
     ]
    }
   ],
   "source": [
    "!pip3 install matplotlib\n",
    "!pip3 install sklearn\n",
    "!pip3 install seaborn"
   ]
  },
  {
   "cell_type": "code",
   "execution_count": 2,
   "id": "032ee7a2",
   "metadata": {},
   "outputs": [],
   "source": [
    "import pandas as pd\n",
    "import numpy as np\n",
    "import matplotlib.pyplot as plt\n",
    "import math\n",
    "import base64\n",
    "import sklearn\n",
    "import seaborn as sns"
   ]
  },
  {
   "cell_type": "code",
   "execution_count": 138,
   "id": "04b7a6ff",
   "metadata": {},
   "outputs": [],
   "source": [
    "from sklearn.experimental import enable_iterative_imputer\n",
    "from sklearn.impute import IterativeImputer\n",
    "from matplotlib import pyplot\n",
    "from sklearn.linear_model import LinearRegression"
   ]
  },
  {
   "cell_type": "markdown",
   "id": "5ec1f7ee",
   "metadata": {},
   "source": [
    "## Import data"
   ]
  },
  {
   "cell_type": "code",
   "execution_count": 4,
   "id": "9eb0ed04",
   "metadata": {
    "scrolled": false
   },
   "outputs": [
    {
     "data": {
      "text/html": [
       "<div>\n",
       "<style scoped>\n",
       "    .dataframe tbody tr th:only-of-type {\n",
       "        vertical-align: middle;\n",
       "    }\n",
       "\n",
       "    .dataframe tbody tr th {\n",
       "        vertical-align: top;\n",
       "    }\n",
       "\n",
       "    .dataframe thead th {\n",
       "        text-align: right;\n",
       "    }\n",
       "</style>\n",
       "<table border=\"1\" class=\"dataframe\">\n",
       "  <thead>\n",
       "    <tr style=\"text-align: right;\">\n",
       "      <th></th>\n",
       "      <th>OrderId</th>\n",
       "      <th>RequestTime</th>\n",
       "      <th>DeliveryOption</th>\n",
       "    </tr>\n",
       "  </thead>\n",
       "  <tbody>\n",
       "    <tr>\n",
       "      <th>0</th>\n",
       "      <td>PED_1</td>\n",
       "      <td>2018-01-01 08:03:12</td>\n",
       "      <td>Mismo dia entre 6:30 pm y 8:30 pm</td>\n",
       "    </tr>\n",
       "    <tr>\n",
       "      <th>1</th>\n",
       "      <td>PED_2</td>\n",
       "      <td>2018-01-01 08:28:55</td>\n",
       "      <td>Mismo dia entre 6:30 pm y 8:30 pm</td>\n",
       "    </tr>\n",
       "    <tr>\n",
       "      <th>2</th>\n",
       "      <td>PED_3</td>\n",
       "      <td>2018-01-01 08:39:08</td>\n",
       "      <td>Mismo dia entre 6:30 pm y 8:30 pm</td>\n",
       "    </tr>\n",
       "    <tr>\n",
       "      <th>3</th>\n",
       "      <td>PED_4</td>\n",
       "      <td>2018-01-01 09:25:07</td>\n",
       "      <td>Siguiente dia entre 12:30 pm y 2:30 pm</td>\n",
       "    </tr>\n",
       "    <tr>\n",
       "      <th>4</th>\n",
       "      <td>PED_5</td>\n",
       "      <td>2018-01-01 09:36:25</td>\n",
       "      <td>Siguiente dia entre 12:30 pm y 2:30 pm</td>\n",
       "    </tr>\n",
       "  </tbody>\n",
       "</table>\n",
       "</div>"
      ],
      "text/plain": [
       "  OrderId          RequestTime                          DeliveryOption\n",
       "0   PED_1  2018-01-01 08:03:12       Mismo dia entre 6:30 pm y 8:30 pm\n",
       "1   PED_2  2018-01-01 08:28:55       Mismo dia entre 6:30 pm y 8:30 pm\n",
       "2   PED_3  2018-01-01 08:39:08       Mismo dia entre 6:30 pm y 8:30 pm\n",
       "3   PED_4  2018-01-01 09:25:07  Siguiente dia entre 12:30 pm y 2:30 pm\n",
       "4   PED_5  2018-01-01 09:36:25  Siguiente dia entre 12:30 pm y 2:30 pm"
      ]
     },
     "execution_count": 4,
     "metadata": {},
     "output_type": "execute_result"
    }
   ],
   "source": [
    "#import the mainly file\n",
    "df = pd.read_csv('Data/Datos_Prueba_DataScientist.csv')\n",
    "df.head()"
   ]
  },
  {
   "cell_type": "markdown",
   "id": "ea66db34",
   "metadata": {},
   "source": [
    "## Review of data"
   ]
  },
  {
   "cell_type": "code",
   "execution_count": 7,
   "id": "1100fb3c",
   "metadata": {
    "scrolled": true
   },
   "outputs": [
    {
     "data": {
      "text/plain": [
       "array(['Mismo dia entre 6:30 pm y 8:30 pm',\n",
       "       'Siguiente dia entre 12:30 pm y 2:30 pm',\n",
       "       'Siguiente dia entre las 6:30 pm y 8:30 pm'], dtype=object)"
      ]
     },
     "execution_count": 7,
     "metadata": {},
     "output_type": "execute_result"
    }
   ],
   "source": [
    "df.DeliveryOption.unique()"
   ]
  },
  {
   "cell_type": "code",
   "execution_count": 8,
   "id": "19a25bd6",
   "metadata": {},
   "outputs": [
    {
     "name": "stdout",
     "output_type": "stream",
     "text": [
      "<class 'pandas.core.frame.DataFrame'>\n",
      "RangeIndex: 153275 entries, 0 to 153274\n",
      "Data columns (total 3 columns):\n",
      " #   Column          Non-Null Count   Dtype \n",
      "---  ------          --------------   ----- \n",
      " 0   OrderId         153275 non-null  object\n",
      " 1   RequestTime     153275 non-null  object\n",
      " 2   DeliveryOption  153275 non-null  object\n",
      "dtypes: object(3)\n",
      "memory usage: 3.5+ MB\n"
     ]
    }
   ],
   "source": [
    "df.info()"
   ]
  },
  {
   "cell_type": "code",
   "execution_count": 9,
   "id": "5c0dea65",
   "metadata": {
    "scrolled": false
   },
   "outputs": [
    {
     "name": "stdout",
     "output_type": "stream",
     "text": [
      "<class 'pandas.core.frame.DataFrame'>\n",
      "RangeIndex: 153275 entries, 0 to 153274\n",
      "Data columns (total 3 columns):\n",
      " #   Column          Non-Null Count   Dtype         \n",
      "---  ------          --------------   -----         \n",
      " 0   OrderId         153275 non-null  object        \n",
      " 1   RequestTime     153275 non-null  datetime64[ns]\n",
      " 2   DeliveryOption  153275 non-null  object        \n",
      "dtypes: datetime64[ns](1), object(2)\n",
      "memory usage: 3.5+ MB\n"
     ]
    }
   ],
   "source": [
    "df.RequestTime=pd.to_datetime(df.RequestTime)\n",
    "df.info()"
   ]
  },
  {
   "cell_type": "code",
   "execution_count": 10,
   "id": "ba34ed3f",
   "metadata": {
    "scrolled": false
   },
   "outputs": [
    {
     "data": {
      "text/html": [
       "<div>\n",
       "<style scoped>\n",
       "    .dataframe tbody tr th:only-of-type {\n",
       "        vertical-align: middle;\n",
       "    }\n",
       "\n",
       "    .dataframe tbody tr th {\n",
       "        vertical-align: top;\n",
       "    }\n",
       "\n",
       "    .dataframe thead th {\n",
       "        text-align: right;\n",
       "    }\n",
       "</style>\n",
       "<table border=\"1\" class=\"dataframe\">\n",
       "  <thead>\n",
       "    <tr style=\"text-align: right;\">\n",
       "      <th></th>\n",
       "      <th>OrderId</th>\n",
       "      <th>RequestTime</th>\n",
       "      <th>DeliveryOption</th>\n",
       "      <th>Hour</th>\n",
       "    </tr>\n",
       "  </thead>\n",
       "  <tbody>\n",
       "    <tr>\n",
       "      <th>0</th>\n",
       "      <td>PED_1</td>\n",
       "      <td>2018-01-01 08:03:12</td>\n",
       "      <td>Mismo dia entre 6:30 pm y 8:30 pm</td>\n",
       "      <td>8</td>\n",
       "    </tr>\n",
       "    <tr>\n",
       "      <th>1</th>\n",
       "      <td>PED_2</td>\n",
       "      <td>2018-01-01 08:28:55</td>\n",
       "      <td>Mismo dia entre 6:30 pm y 8:30 pm</td>\n",
       "      <td>8</td>\n",
       "    </tr>\n",
       "    <tr>\n",
       "      <th>2</th>\n",
       "      <td>PED_3</td>\n",
       "      <td>2018-01-01 08:39:08</td>\n",
       "      <td>Mismo dia entre 6:30 pm y 8:30 pm</td>\n",
       "      <td>8</td>\n",
       "    </tr>\n",
       "    <tr>\n",
       "      <th>3</th>\n",
       "      <td>PED_4</td>\n",
       "      <td>2018-01-01 09:25:07</td>\n",
       "      <td>Siguiente dia entre 12:30 pm y 2:30 pm</td>\n",
       "      <td>9</td>\n",
       "    </tr>\n",
       "    <tr>\n",
       "      <th>4</th>\n",
       "      <td>PED_5</td>\n",
       "      <td>2018-01-01 09:36:25</td>\n",
       "      <td>Siguiente dia entre 12:30 pm y 2:30 pm</td>\n",
       "      <td>9</td>\n",
       "    </tr>\n",
       "  </tbody>\n",
       "</table>\n",
       "</div>"
      ],
      "text/plain": [
       "  OrderId         RequestTime                          DeliveryOption  Hour\n",
       "0   PED_1 2018-01-01 08:03:12       Mismo dia entre 6:30 pm y 8:30 pm     8\n",
       "1   PED_2 2018-01-01 08:28:55       Mismo dia entre 6:30 pm y 8:30 pm     8\n",
       "2   PED_3 2018-01-01 08:39:08       Mismo dia entre 6:30 pm y 8:30 pm     8\n",
       "3   PED_4 2018-01-01 09:25:07  Siguiente dia entre 12:30 pm y 2:30 pm     9\n",
       "4   PED_5 2018-01-01 09:36:25  Siguiente dia entre 12:30 pm y 2:30 pm     9"
      ]
     },
     "execution_count": 10,
     "metadata": {},
     "output_type": "execute_result"
    }
   ],
   "source": [
    "df=df.copy()\n",
    "#Define a format of hour in the new column\n",
    "df['Hour']=pd.to_datetime(df['RequestTime'],errors='raise',format='%H:%M')\n",
    "\n",
    "#Turn into only format hours the new column\n",
    "df['Hour'] = df['Hour'].dt.hour\n",
    "df.head()"
   ]
  },
  {
   "cell_type": "code",
   "execution_count": 11,
   "id": "4a91a63d",
   "metadata": {
    "scrolled": true
   },
   "outputs": [
    {
     "data": {
      "text/html": [
       "<div>\n",
       "<style scoped>\n",
       "    .dataframe tbody tr th:only-of-type {\n",
       "        vertical-align: middle;\n",
       "    }\n",
       "\n",
       "    .dataframe tbody tr th {\n",
       "        vertical-align: top;\n",
       "    }\n",
       "\n",
       "    .dataframe thead th {\n",
       "        text-align: right;\n",
       "    }\n",
       "</style>\n",
       "<table border=\"1\" class=\"dataframe\">\n",
       "  <thead>\n",
       "    <tr style=\"text-align: right;\">\n",
       "      <th></th>\n",
       "      <th>OrderId</th>\n",
       "      <th>RequestTime</th>\n",
       "      <th>DeliveryOption</th>\n",
       "      <th>Hour</th>\n",
       "      <th>Date</th>\n",
       "    </tr>\n",
       "  </thead>\n",
       "  <tbody>\n",
       "    <tr>\n",
       "      <th>0</th>\n",
       "      <td>PED_1</td>\n",
       "      <td>2018-01-01 08:03:12</td>\n",
       "      <td>Mismo dia entre 6:30 pm y 8:30 pm</td>\n",
       "      <td>8</td>\n",
       "      <td>2018-01-01</td>\n",
       "    </tr>\n",
       "    <tr>\n",
       "      <th>1</th>\n",
       "      <td>PED_2</td>\n",
       "      <td>2018-01-01 08:28:55</td>\n",
       "      <td>Mismo dia entre 6:30 pm y 8:30 pm</td>\n",
       "      <td>8</td>\n",
       "      <td>2018-01-01</td>\n",
       "    </tr>\n",
       "    <tr>\n",
       "      <th>2</th>\n",
       "      <td>PED_3</td>\n",
       "      <td>2018-01-01 08:39:08</td>\n",
       "      <td>Mismo dia entre 6:30 pm y 8:30 pm</td>\n",
       "      <td>8</td>\n",
       "      <td>2018-01-01</td>\n",
       "    </tr>\n",
       "    <tr>\n",
       "      <th>3</th>\n",
       "      <td>PED_4</td>\n",
       "      <td>2018-01-01 09:25:07</td>\n",
       "      <td>Siguiente dia entre 12:30 pm y 2:30 pm</td>\n",
       "      <td>9</td>\n",
       "      <td>2018-01-01</td>\n",
       "    </tr>\n",
       "    <tr>\n",
       "      <th>4</th>\n",
       "      <td>PED_5</td>\n",
       "      <td>2018-01-01 09:36:25</td>\n",
       "      <td>Siguiente dia entre 12:30 pm y 2:30 pm</td>\n",
       "      <td>9</td>\n",
       "      <td>2018-01-01</td>\n",
       "    </tr>\n",
       "  </tbody>\n",
       "</table>\n",
       "</div>"
      ],
      "text/plain": [
       "  OrderId         RequestTime                          DeliveryOption  Hour  \\\n",
       "0   PED_1 2018-01-01 08:03:12       Mismo dia entre 6:30 pm y 8:30 pm     8   \n",
       "1   PED_2 2018-01-01 08:28:55       Mismo dia entre 6:30 pm y 8:30 pm     8   \n",
       "2   PED_3 2018-01-01 08:39:08       Mismo dia entre 6:30 pm y 8:30 pm     8   \n",
       "3   PED_4 2018-01-01 09:25:07  Siguiente dia entre 12:30 pm y 2:30 pm     9   \n",
       "4   PED_5 2018-01-01 09:36:25  Siguiente dia entre 12:30 pm y 2:30 pm     9   \n",
       "\n",
       "         Date  \n",
       "0  2018-01-01  \n",
       "1  2018-01-01  \n",
       "2  2018-01-01  \n",
       "3  2018-01-01  \n",
       "4  2018-01-01  "
      ]
     },
     "execution_count": 11,
     "metadata": {},
     "output_type": "execute_result"
    }
   ],
   "source": [
    "#Do the same excercise with the days, just with the finally of watch the behavior of the historical data od orders\n",
    "#and deliveries\n",
    "\n",
    "df['Date'] = df['RequestTime'].dt.date\n",
    "\n",
    "#I decided use group by days, to get initial information\n",
    "df.head()"
   ]
  },
  {
   "cell_type": "code",
   "execution_count": 12,
   "id": "2dca7794",
   "metadata": {
    "scrolled": false
   },
   "outputs": [
    {
     "data": {
      "text/html": [
       "<div>\n",
       "<style scoped>\n",
       "    .dataframe tbody tr th:only-of-type {\n",
       "        vertical-align: middle;\n",
       "    }\n",
       "\n",
       "    .dataframe tbody tr th {\n",
       "        vertical-align: top;\n",
       "    }\n",
       "\n",
       "    .dataframe thead th {\n",
       "        text-align: right;\n",
       "    }\n",
       "</style>\n",
       "<table border=\"1\" class=\"dataframe\">\n",
       "  <thead>\n",
       "    <tr style=\"text-align: right;\">\n",
       "      <th></th>\n",
       "      <th>OrderId</th>\n",
       "      <th>RequestTime</th>\n",
       "      <th>DeliveryOption</th>\n",
       "      <th>Hour</th>\n",
       "      <th>Date</th>\n",
       "      <th>month</th>\n",
       "    </tr>\n",
       "  </thead>\n",
       "  <tbody>\n",
       "    <tr>\n",
       "      <th>0</th>\n",
       "      <td>PED_1</td>\n",
       "      <td>2018-01-01 08:03:12</td>\n",
       "      <td>Mismo dia entre 6:30 pm y 8:30 pm</td>\n",
       "      <td>8</td>\n",
       "      <td>2018-01-01</td>\n",
       "      <td>2018-01</td>\n",
       "    </tr>\n",
       "    <tr>\n",
       "      <th>1</th>\n",
       "      <td>PED_2</td>\n",
       "      <td>2018-01-01 08:28:55</td>\n",
       "      <td>Mismo dia entre 6:30 pm y 8:30 pm</td>\n",
       "      <td>8</td>\n",
       "      <td>2018-01-01</td>\n",
       "      <td>2018-01</td>\n",
       "    </tr>\n",
       "    <tr>\n",
       "      <th>2</th>\n",
       "      <td>PED_3</td>\n",
       "      <td>2018-01-01 08:39:08</td>\n",
       "      <td>Mismo dia entre 6:30 pm y 8:30 pm</td>\n",
       "      <td>8</td>\n",
       "      <td>2018-01-01</td>\n",
       "      <td>2018-01</td>\n",
       "    </tr>\n",
       "    <tr>\n",
       "      <th>3</th>\n",
       "      <td>PED_4</td>\n",
       "      <td>2018-01-01 09:25:07</td>\n",
       "      <td>Siguiente dia entre 12:30 pm y 2:30 pm</td>\n",
       "      <td>9</td>\n",
       "      <td>2018-01-01</td>\n",
       "      <td>2018-01</td>\n",
       "    </tr>\n",
       "    <tr>\n",
       "      <th>4</th>\n",
       "      <td>PED_5</td>\n",
       "      <td>2018-01-01 09:36:25</td>\n",
       "      <td>Siguiente dia entre 12:30 pm y 2:30 pm</td>\n",
       "      <td>9</td>\n",
       "      <td>2018-01-01</td>\n",
       "      <td>2018-01</td>\n",
       "    </tr>\n",
       "  </tbody>\n",
       "</table>\n",
       "</div>"
      ],
      "text/plain": [
       "  OrderId         RequestTime                          DeliveryOption  Hour  \\\n",
       "0   PED_1 2018-01-01 08:03:12       Mismo dia entre 6:30 pm y 8:30 pm     8   \n",
       "1   PED_2 2018-01-01 08:28:55       Mismo dia entre 6:30 pm y 8:30 pm     8   \n",
       "2   PED_3 2018-01-01 08:39:08       Mismo dia entre 6:30 pm y 8:30 pm     8   \n",
       "3   PED_4 2018-01-01 09:25:07  Siguiente dia entre 12:30 pm y 2:30 pm     9   \n",
       "4   PED_5 2018-01-01 09:36:25  Siguiente dia entre 12:30 pm y 2:30 pm     9   \n",
       "\n",
       "         Date    month  \n",
       "0  2018-01-01  2018-01  \n",
       "1  2018-01-01  2018-01  \n",
       "2  2018-01-01  2018-01  \n",
       "3  2018-01-01  2018-01  \n",
       "4  2018-01-01  2018-01  "
      ]
     },
     "execution_count": 12,
     "metadata": {},
     "output_type": "execute_result"
    }
   ],
   "source": [
    "#Define the format of the dates\n",
    "df['month']=pd.to_datetime(df['RequestTime'],errors='raise',format='%Y/%m/%d')\n",
    "#group the dates by month\n",
    "df['month']=df['month'].dt.to_period('M')\n",
    "    \n",
    "df.head()"
   ]
  },
  {
   "cell_type": "code",
   "execution_count": 13,
   "id": "10c2ffcc",
   "metadata": {
    "scrolled": false
   },
   "outputs": [
    {
     "data": {
      "text/html": [
       "<div>\n",
       "<style scoped>\n",
       "    .dataframe tbody tr th:only-of-type {\n",
       "        vertical-align: middle;\n",
       "    }\n",
       "\n",
       "    .dataframe tbody tr th {\n",
       "        vertical-align: top;\n",
       "    }\n",
       "\n",
       "    .dataframe thead th {\n",
       "        text-align: right;\n",
       "    }\n",
       "</style>\n",
       "<table border=\"1\" class=\"dataframe\">\n",
       "  <thead>\n",
       "    <tr style=\"text-align: right;\">\n",
       "      <th></th>\n",
       "      <th>month</th>\n",
       "      <th>deliveries</th>\n",
       "    </tr>\n",
       "  </thead>\n",
       "  <tbody>\n",
       "    <tr>\n",
       "      <th>0</th>\n",
       "      <td>2018-01</td>\n",
       "      <td>826</td>\n",
       "    </tr>\n",
       "    <tr>\n",
       "      <th>1</th>\n",
       "      <td>2018-02</td>\n",
       "      <td>733</td>\n",
       "    </tr>\n",
       "    <tr>\n",
       "      <th>2</th>\n",
       "      <td>2018-03</td>\n",
       "      <td>979</td>\n",
       "    </tr>\n",
       "    <tr>\n",
       "      <th>3</th>\n",
       "      <td>2018-04</td>\n",
       "      <td>1121</td>\n",
       "    </tr>\n",
       "    <tr>\n",
       "      <th>4</th>\n",
       "      <td>2018-05</td>\n",
       "      <td>1324</td>\n",
       "    </tr>\n",
       "  </tbody>\n",
       "</table>\n",
       "</div>"
      ],
      "text/plain": [
       "     month  deliveries\n",
       "0  2018-01         826\n",
       "1  2018-02         733\n",
       "2  2018-03         979\n",
       "3  2018-04        1121\n",
       "4  2018-05        1324"
      ]
     },
     "execution_count": 13,
     "metadata": {},
     "output_type": "execute_result"
    }
   ],
   "source": [
    "monthly_Request=df.groupby('month',sort=True).size()\n",
    "\n",
    "monthly_Request=pd.DataFrame(monthly_Request)\n",
    "monthly_Request=monthly_Request.reset_index()\n",
    "\n",
    "monthly_Request['deliveries'] = monthly_Request[0]\n",
    "del monthly_Request[0]\n",
    "\n",
    "# monthly_Request.index()\n",
    "# monthly_Request.columns('month','deliveries')\n",
    "monthly_Request.head()"
   ]
  },
  {
   "cell_type": "markdown",
   "id": "9cb56973",
   "metadata": {},
   "source": [
    "## A first review of the historial data about deliviers"
   ]
  },
  {
   "cell_type": "markdown",
   "id": "24f7881e",
   "metadata": {},
   "source": [
    "**For this particular case, the deliveries are equivalent to orders and sells**"
   ]
  },
  {
   "cell_type": "code",
   "execution_count": 34,
   "id": "ef854cc9",
   "metadata": {
    "scrolled": false
   },
   "outputs": [
    {
     "data": {
      "text/plain": [
       "Text(0, 0.5, 'Deliveries/Orders/Sells')"
      ]
     },
     "execution_count": 34,
     "metadata": {},
     "output_type": "execute_result"
    },
    {
     "data": {
      "image/png": "[encoded data removed]",
      "text/plain": [
       "<Figure size 1008x432 with 1 Axes>"
      ]
     },
     "metadata": {
      "needs_background": "light"
     },
     "output_type": "display_data"
    }
   ],
   "source": [
    "#This is a initial review of the historical trend.\n",
    "\n",
    "monthly_Request[['month','deliveries']].set_index('month').plot(figsize=(14,6))\n",
    "plt.title('Evolution Deliveries 2018-2021',fontsize=14, color='Blue')\n",
    "plt.grid(True)\n",
    "plt.xlabel('Months', fontsize=12, color='Blue')\n",
    "plt.ylabel('Deliveries/Orders/Sells', fontsize=12, color='Blue')\n",
    "\n",
    "\n"
   ]
  },
  {
   "cell_type": "markdown",
   "id": "fd814e3c",
   "metadata": {},
   "source": [
    "Its clear that the orders have an increment in the last four years with a fluctuation in the beginning of 2020 because the pandemic, mainly between February and March."
   ]
  },
  {
   "cell_type": "markdown",
   "id": "54d67c79",
   "metadata": {},
   "source": [
    "## Conversion of the values into the column DeliveryOption and data grouped by month\n"
   ]
  },
  {
   "cell_type": "code",
   "execution_count": 15,
   "id": "caf6a03f",
   "metadata": {
    "scrolled": true
   },
   "outputs": [
    {
     "data": {
      "text/html": [
       "<div>\n",
       "<style scoped>\n",
       "    .dataframe tbody tr th:only-of-type {\n",
       "        vertical-align: middle;\n",
       "    }\n",
       "\n",
       "    .dataframe tbody tr th {\n",
       "        vertical-align: top;\n",
       "    }\n",
       "\n",
       "    .dataframe thead th {\n",
       "        text-align: right;\n",
       "    }\n",
       "</style>\n",
       "<table border=\"1\" class=\"dataframe\">\n",
       "  <thead>\n",
       "    <tr style=\"text-align: right;\">\n",
       "      <th></th>\n",
       "      <th>month</th>\n",
       "      <th>DeliveryOption</th>\n",
       "      <th>Orders_Total</th>\n",
       "    </tr>\n",
       "  </thead>\n",
       "  <tbody>\n",
       "    <tr>\n",
       "      <th>0</th>\n",
       "      <td>2018-01</td>\n",
       "      <td>1</td>\n",
       "      <td>376</td>\n",
       "    </tr>\n",
       "    <tr>\n",
       "      <th>1</th>\n",
       "      <td>2018-01</td>\n",
       "      <td>2</td>\n",
       "      <td>254</td>\n",
       "    </tr>\n",
       "    <tr>\n",
       "      <th>2</th>\n",
       "      <td>2018-01</td>\n",
       "      <td>3</td>\n",
       "      <td>196</td>\n",
       "    </tr>\n",
       "    <tr>\n",
       "      <th>3</th>\n",
       "      <td>2018-02</td>\n",
       "      <td>1</td>\n",
       "      <td>363</td>\n",
       "    </tr>\n",
       "    <tr>\n",
       "      <th>4</th>\n",
       "      <td>2018-02</td>\n",
       "      <td>2</td>\n",
       "      <td>219</td>\n",
       "    </tr>\n",
       "  </tbody>\n",
       "</table>\n",
       "</div>"
      ],
      "text/plain": [
       "     month  DeliveryOption  Orders_Total\n",
       "0  2018-01               1           376\n",
       "1  2018-01               2           254\n",
       "2  2018-01               3           196\n",
       "3  2018-02               1           363\n",
       "4  2018-02               2           219"
      ]
     },
     "execution_count": 15,
     "metadata": {},
     "output_type": "execute_result"
    }
   ],
   "source": [
    "#Identify and turn the data to separate and organize in the future\n",
    "\n",
    "df=df.copy()\n",
    "\n",
    "# Turn into a number the values of DeliveryOption\n",
    "df[\"DeliveryOption\"].replace({\"Mismo dia entre 6:30 pm y 8:30 pm\": \"1\", \n",
    "                              \"Siguiente dia entre 12:30 pm y 2:30 pm\": \"2\",\n",
    "                              'Siguiente dia entre las 6:30 pm y 8:30 pm':'3'},\n",
    "                             inplace=True)\n",
    "\n",
    "#group by month and kind of delivery\n",
    "del_month  = df.groupby(['month','DeliveryOption']).size()\n",
    "\n",
    "#Create a data frame with the new information to a better visual content and for treatment with plots and correlations\n",
    "del_month=del_month.to_frame().reset_index()\n",
    "del_month.rename(columns={0:'Orders_Total'},inplace=True)\n",
    "\n",
    "#Turn the Object values into a more convenient kind\n",
    "del_month[\"DeliveryOption\"] = del_month[\"DeliveryOption\"].astype(str).astype(int)\n",
    "del_month.head()"
   ]
  },
  {
   "cell_type": "markdown",
   "id": "d253d72a",
   "metadata": {},
   "source": [
    "## Separation of values between kinds of delivery and identifying correlations"
   ]
  },
  {
   "cell_type": "markdown",
   "id": "e1c390dc",
   "metadata": {},
   "source": [
    "### **Note: We are going to consider a delivery as a sale, order or request, because if one of this didn't exist, the delivery don´t exist**\n",
    "\n",
    "**I separate the ''Options of delivery'' to see the behavior of each one.**"
   ]
  },
  {
   "cell_type": "code",
   "execution_count": 64,
   "id": "f894b1ef",
   "metadata": {
    "scrolled": false
   },
   "outputs": [
    {
     "data": {
      "text/html": [
       "<div>\n",
       "<style scoped>\n",
       "    .dataframe tbody tr th:only-of-type {\n",
       "        vertical-align: middle;\n",
       "    }\n",
       "\n",
       "    .dataframe tbody tr th {\n",
       "        vertical-align: top;\n",
       "    }\n",
       "\n",
       "    .dataframe thead th {\n",
       "        text-align: right;\n",
       "    }\n",
       "</style>\n",
       "<table border=\"1\" class=\"dataframe\">\n",
       "  <thead>\n",
       "    <tr style=\"text-align: right;\">\n",
       "      <th></th>\n",
       "      <th>year_month</th>\n",
       "      <th>Delivery_Opt_1</th>\n",
       "    </tr>\n",
       "  </thead>\n",
       "  <tbody>\n",
       "    <tr>\n",
       "      <th>0</th>\n",
       "      <td>2018-01</td>\n",
       "      <td>376</td>\n",
       "    </tr>\n",
       "    <tr>\n",
       "      <th>1</th>\n",
       "      <td>2018-02</td>\n",
       "      <td>363</td>\n",
       "    </tr>\n",
       "    <tr>\n",
       "      <th>2</th>\n",
       "      <td>2018-03</td>\n",
       "      <td>500</td>\n",
       "    </tr>\n",
       "    <tr>\n",
       "      <th>3</th>\n",
       "      <td>2018-04</td>\n",
       "      <td>591</td>\n",
       "    </tr>\n",
       "    <tr>\n",
       "      <th>4</th>\n",
       "      <td>2018-05</td>\n",
       "      <td>701</td>\n",
       "    </tr>\n",
       "  </tbody>\n",
       "</table>\n",
       "</div>"
      ],
      "text/plain": [
       "  year_month  Delivery_Opt_1\n",
       "0    2018-01             376\n",
       "1    2018-02             363\n",
       "2    2018-03             500\n",
       "3    2018-04             591\n",
       "4    2018-05             701"
      ]
     },
     "execution_count": 64,
     "metadata": {},
     "output_type": "execute_result"
    }
   ],
   "source": [
    "df['option1'] = df['DeliveryOption']=='1'\n",
    "\n",
    "df[\"option1\"].replace({True: 1, False: 0,},inplace=True)\n",
    "\n",
    "Option_1=pd.DataFrame()\n",
    "\n",
    "Option_1['OrderId'] = df['OrderId']\n",
    "Option_1['year_month'] = df['month']\n",
    "Option_1['option1'] = df['option1']\n",
    "\n",
    "Option_1 = Option_1.set_index(\"option1\")\n",
    "Option_1=Option_1.drop(0)\n",
    "Option_1=Option_1.reset_index()\n",
    "\n",
    "Option_1_group=Option_1.groupby(['year_month']).size()\n",
    "Option_1_group.head()\n",
    "\n",
    "Option_1_group=Option_1_group.to_frame().reset_index()\n",
    "Option_1_group.rename(columns={0:'Delivery_Opt_1'},inplace=True)\n",
    "# Option_1_group.columns('month','Orders_Opt_1')\n",
    "Option_1_group.head()"
   ]
  },
  {
   "cell_type": "code",
   "execution_count": 65,
   "id": "dbdc5d00",
   "metadata": {
    "scrolled": false
   },
   "outputs": [
    {
     "data": {
      "text/plain": [
       "<AxesSubplot:xlabel='Monthly Period', ylabel='Delivery_Opt_1'>"
      ]
     },
     "execution_count": 65,
     "metadata": {},
     "output_type": "execute_result"
    },
    {
     "data": {
      "image/png": "[encoded data removed]",
      "text/plain": [
       "<Figure size 936x360 with 1 Axes>"
      ]
     },
     "metadata": {
      "needs_background": "light"
     },
     "output_type": "display_data"
    }
   ],
   "source": [
    "#A simple bar graph to see the distributions of data throught time. \n",
    "Option_1_group.plot(kind='bar', figsize=(13,5), stacked=True, grid='both',xlabel='Monthly Period',ylabel='Delivery_Opt_1')"
   ]
  },
  {
   "cell_type": "markdown",
   "id": "b80f3013",
   "metadata": {},
   "source": [
    "*The objective is know the distribution of the data, to choose a method to identify the linear correlation and after create the linear regression for the forecast of March.*\n",
    "\n",
    "**We can see, thas is not a normal distribution, so I'm not going to use the method of Pearson. I did the same excercise for the other options of the delivery and for the levels of affectedness, to confirm what method use. In the next cells, we are going to see the behavior of the values and the correlations**"
   ]
  },
  {
   "cell_type": "markdown",
   "id": "4794422b",
   "metadata": {},
   "source": [
    "________________________________________________________________________________________________________________"
   ]
  },
  {
   "cell_type": "markdown",
   "id": "5231f4d4",
   "metadata": {},
   "source": [
    "*To continue, is necesary import from other file the behavior of affectedness because Covid-19 for the next month*"
   ]
  },
  {
   "cell_type": "code",
   "execution_count": 72,
   "id": "51f893b5",
   "metadata": {
    "scrolled": true
   },
   "outputs": [],
   "source": [
    "#import file with the data of the levels of affectedness by covid\n",
    "Aff = pd.read_csv('Data/Affectedness.csv', sep=';')"
   ]
  },
  {
   "cell_type": "code",
   "execution_count": 67,
   "id": "b5fb9b6e",
   "metadata": {
    "scrolled": false
   },
   "outputs": [
    {
     "data": {
      "text/plain": [
       "<AxesSubplot:xlabel='Monthly Period', ylabel='Affectedness'>"
      ]
     },
     "execution_count": 67,
     "metadata": {},
     "output_type": "execute_result"
    },
    {
     "data": {
      "image/png": "[encoded data removed]",
      "text/plain": [
       "<Figure size 864x288 with 1 Axes>"
      ]
     },
     "metadata": {
      "needs_background": "light"
     },
     "output_type": "display_data"
    }
   ],
   "source": [
    "Aff.plot(kind='bar', figsize=(12,4), stacked=True,grid='both',xlabel='Monthly Period',ylabel='Affectedness')"
   ]
  },
  {
   "cell_type": "markdown",
   "id": "92a35d0c",
   "metadata": {},
   "source": [
    "*As we hoped, is impossible get a normal distribution of the level of affetedness*"
   ]
  },
  {
   "cell_type": "markdown",
   "id": "c4700192",
   "metadata": {},
   "source": [
    "___________________________________________________________________________________________________________"
   ]
  },
  {
   "cell_type": "markdown",
   "id": "87de7ca1",
   "metadata": {},
   "source": [
    "I continue identifiying the correlation between the deliveries and the level of affectedness **(remember a delivery is a sale)**.\n",
    "\n",
    "I discart the method of Pearson because is neccessary have data, with a normal distribution"
   ]
  },
  {
   "cell_type": "code",
   "execution_count": 119,
   "id": "f0e7284d",
   "metadata": {},
   "outputs": [],
   "source": [
    "# Insert the new data in the table of option1\n",
    "Option_1_group['Level_Affectedness']=Aff['Level_Affectedness']"
   ]
  },
  {
   "cell_type": "markdown",
   "id": "539e77e4",
   "metadata": {},
   "source": [
    "**I use two methods to identify the correlation between delivery and Level_Affectdness, Spearman and Kendall**"
   ]
  },
  {
   "cell_type": "code",
   "execution_count": 121,
   "id": "b853354e",
   "metadata": {
    "scrolled": false
   },
   "outputs": [
    {
     "data": {
      "text/html": [
       "<div>\n",
       "<style scoped>\n",
       "    .dataframe tbody tr th:only-of-type {\n",
       "        vertical-align: middle;\n",
       "    }\n",
       "\n",
       "    .dataframe tbody tr th {\n",
       "        vertical-align: top;\n",
       "    }\n",
       "\n",
       "    .dataframe thead th {\n",
       "        text-align: right;\n",
       "    }\n",
       "</style>\n",
       "<table border=\"1\" class=\"dataframe\">\n",
       "  <thead>\n",
       "    <tr style=\"text-align: right;\">\n",
       "      <th></th>\n",
       "      <th>Delivery_Opt_1</th>\n",
       "      <th>Level_Affectedness</th>\n",
       "    </tr>\n",
       "  </thead>\n",
       "  <tbody>\n",
       "    <tr>\n",
       "      <th>Delivery_Opt_1</th>\n",
       "      <td>1.000000</td>\n",
       "      <td>0.536764</td>\n",
       "    </tr>\n",
       "    <tr>\n",
       "      <th>Level_Affectedness</th>\n",
       "      <td>0.536764</td>\n",
       "      <td>1.000000</td>\n",
       "    </tr>\n",
       "  </tbody>\n",
       "</table>\n",
       "</div>"
      ],
      "text/plain": [
       "                    Delivery_Opt_1  Level_Affectedness\n",
       "Delivery_Opt_1            1.000000            0.536764\n",
       "Level_Affectedness        0.536764            1.000000"
      ]
     },
     "execution_count": 121,
     "metadata": {},
     "output_type": "execute_result"
    }
   ],
   "source": [
    "Option_1_group.corr(method ='spearman')"
   ]
  },
  {
   "cell_type": "code",
   "execution_count": 122,
   "id": "d16c02e7",
   "metadata": {
    "scrolled": true
   },
   "outputs": [
    {
     "data": {
      "text/html": [
       "<div>\n",
       "<style scoped>\n",
       "    .dataframe tbody tr th:only-of-type {\n",
       "        vertical-align: middle;\n",
       "    }\n",
       "\n",
       "    .dataframe tbody tr th {\n",
       "        vertical-align: top;\n",
       "    }\n",
       "\n",
       "    .dataframe thead th {\n",
       "        text-align: right;\n",
       "    }\n",
       "</style>\n",
       "<table border=\"1\" class=\"dataframe\">\n",
       "  <thead>\n",
       "    <tr style=\"text-align: right;\">\n",
       "      <th></th>\n",
       "      <th>Delivery_Opt_1</th>\n",
       "      <th>Level_Affectedness</th>\n",
       "    </tr>\n",
       "  </thead>\n",
       "  <tbody>\n",
       "    <tr>\n",
       "      <th>Delivery_Opt_1</th>\n",
       "      <td>1.000000</td>\n",
       "      <td>0.419775</td>\n",
       "    </tr>\n",
       "    <tr>\n",
       "      <th>Level_Affectedness</th>\n",
       "      <td>0.419775</td>\n",
       "      <td>1.000000</td>\n",
       "    </tr>\n",
       "  </tbody>\n",
       "</table>\n",
       "</div>"
      ],
      "text/plain": [
       "                    Delivery_Opt_1  Level_Affectedness\n",
       "Delivery_Opt_1            1.000000            0.419775\n",
       "Level_Affectedness        0.419775            1.000000"
      ]
     },
     "execution_count": 122,
     "metadata": {},
     "output_type": "execute_result"
    }
   ],
   "source": [
    "Option_1_group.corr(method ='kendall')"
   ]
  },
  {
   "cell_type": "code",
   "execution_count": 130,
   "id": "3e5584de",
   "metadata": {
    "scrolled": true
   },
   "outputs": [
    {
     "data": {
      "image/png": "[encoded data removed]",
      "text/plain": [
       "<Figure size 432x288 with 1 Axes>"
      ]
     },
     "metadata": {
      "needs_background": "light"
     },
     "output_type": "display_data"
    }
   ],
   "source": [
    "pyplot.scatter(Option_1_group['Level_Affectedness'], Option_1_group['Delivery_Opt_1'])\n",
    "pyplot.show()"
   ]
  },
  {
   "cell_type": "markdown",
   "id": "b4ff2631",
   "metadata": {},
   "source": [
    "We can identify a positive correlation between the variables, and is could  be strange because, if we whatch the first graph, we can observ a fall down in March of 2020, when the world were beign confinated.\n",
    "\n",
    "We can see a huge data with the value of zero that is affecting the correlation, further this data is in a period when the world didn't expect a pandemic, so I decided let out the values before of the year 2020, to find a correct correlation and create a forecast to March of 2021."
   ]
  },
  {
   "cell_type": "code",
   "execution_count": 76,
   "id": "53b74368",
   "metadata": {
    "scrolled": true
   },
   "outputs": [
    {
     "data": {
      "text/html": [
       "<div>\n",
       "<style scoped>\n",
       "    .dataframe tbody tr th:only-of-type {\n",
       "        vertical-align: middle;\n",
       "    }\n",
       "\n",
       "    .dataframe tbody tr th {\n",
       "        vertical-align: top;\n",
       "    }\n",
       "\n",
       "    .dataframe thead th {\n",
       "        text-align: right;\n",
       "    }\n",
       "</style>\n",
       "<table border=\"1\" class=\"dataframe\">\n",
       "  <thead>\n",
       "    <tr style=\"text-align: right;\">\n",
       "      <th></th>\n",
       "      <th>Delivery_Opt_1</th>\n",
       "      <th>Level_Affectedness</th>\n",
       "    </tr>\n",
       "  </thead>\n",
       "  <tbody>\n",
       "    <tr>\n",
       "      <th>Delivery_Opt_1</th>\n",
       "      <td>1.000000</td>\n",
       "      <td>-0.269229</td>\n",
       "    </tr>\n",
       "    <tr>\n",
       "      <th>Level_Affectedness</th>\n",
       "      <td>-0.269229</td>\n",
       "      <td>1.000000</td>\n",
       "    </tr>\n",
       "  </tbody>\n",
       "</table>\n",
       "</div>"
      ],
      "text/plain": [
       "                    Delivery_Opt_1  Level_Affectedness\n",
       "Delivery_Opt_1            1.000000           -0.269229\n",
       "Level_Affectedness       -0.269229            1.000000"
      ]
     },
     "execution_count": 76,
     "metadata": {},
     "output_type": "execute_result"
    }
   ],
   "source": [
    "#let out the data before th pandemic\n",
    "Option_1_no_2019 = Option_1_group.iloc[24:,]\n",
    "\n",
    "Option_1_no_2019.reset_index()\n",
    "Option_1_no_2019.corr(method ='spearman')"
   ]
  },
  {
   "cell_type": "code",
   "execution_count": 77,
   "id": "31242a67",
   "metadata": {
    "scrolled": true
   },
   "outputs": [
    {
     "data": {
      "text/html": [
       "<div>\n",
       "<style scoped>\n",
       "    .dataframe tbody tr th:only-of-type {\n",
       "        vertical-align: middle;\n",
       "    }\n",
       "\n",
       "    .dataframe tbody tr th {\n",
       "        vertical-align: top;\n",
       "    }\n",
       "\n",
       "    .dataframe thead th {\n",
       "        text-align: right;\n",
       "    }\n",
       "</style>\n",
       "<table border=\"1\" class=\"dataframe\">\n",
       "  <thead>\n",
       "    <tr style=\"text-align: right;\">\n",
       "      <th></th>\n",
       "      <th>Delivery_Opt_1</th>\n",
       "      <th>Level_Affectedness</th>\n",
       "    </tr>\n",
       "  </thead>\n",
       "  <tbody>\n",
       "    <tr>\n",
       "      <th>Delivery_Opt_1</th>\n",
       "      <td>1.000000</td>\n",
       "      <td>-0.203397</td>\n",
       "    </tr>\n",
       "    <tr>\n",
       "      <th>Level_Affectedness</th>\n",
       "      <td>-0.203397</td>\n",
       "      <td>1.000000</td>\n",
       "    </tr>\n",
       "  </tbody>\n",
       "</table>\n",
       "</div>"
      ],
      "text/plain": [
       "                    Delivery_Opt_1  Level_Affectedness\n",
       "Delivery_Opt_1            1.000000           -0.203397\n",
       "Level_Affectedness       -0.203397            1.000000"
      ]
     },
     "execution_count": 77,
     "metadata": {},
     "output_type": "execute_result"
    }
   ],
   "source": [
    "Option_1_no_2019.corr(method ='kendall')"
   ]
  },
  {
   "cell_type": "code",
   "execution_count": 137,
   "id": "5279c4dd",
   "metadata": {
    "scrolled": false
   },
   "outputs": [
    {
     "data": {
      "text/plain": [
       "<matplotlib.collections.PathCollection at 0x7ffb11581460>"
      ]
     },
     "execution_count": 137,
     "metadata": {},
     "output_type": "execute_result"
    },
    {
     "data": {
      "image/png": "[encoded data removed]",
      "text/plain": [
       "<Figure size 432x288 with 1 Axes>"
      ]
     },
     "metadata": {
      "needs_background": "light"
     },
     "output_type": "display_data"
    }
   ],
   "source": [
    "pyplot.scatter(Option_1_no_2019['Level_Affectedness'], Option_1_no_2019['Delivery_Opt_1'])"
   ]
  },
  {
   "cell_type": "markdown",
   "id": "9a448f3a",
   "metadata": {},
   "source": [
    "**Now, I get a negative correlation so we can with both methods, this have more logic so, just I need chosse a method.**\n",
    "\n",
    "**Based the desicion of the conditions and characteristics of both methods, and we use a little the logics, I chosse the Kendall Method, because:**\n",
    "1. The data don't have a normal distribution.\n",
    "2. The data for the case of the level of affectedness is litte.\n",
    "3. Using the logic, the level of sales (and deliveries), would be affected by the pandemic, but is an essential product (food), so I think that the negative correlation in this case is weak.\n",
    "\n",
    "### Now is necessary do the same for the others delivery options\n",
    "\n",
    "**We now that we just need the data between 2020 and 2021**"
   ]
  },
  {
   "cell_type": "code",
   "execution_count": 86,
   "id": "bebee3b3",
   "metadata": {
    "scrolled": false
   },
   "outputs": [
    {
     "data": {
      "text/plain": [
       "<AxesSubplot:xlabel='Monthly Period', ylabel='Delivery_Opt_2'>"
      ]
     },
     "execution_count": 86,
     "metadata": {},
     "output_type": "execute_result"
    },
    {
     "data": {
      "image/png": "[encoded data removed]",
      "text/plain": [
       "<Figure size 936x360 with 1 Axes>"
      ]
     },
     "metadata": {
      "needs_background": "light"
     },
     "output_type": "display_data"
    }
   ],
   "source": [
    "df['option2'] = df['DeliveryOption']=='2'\n",
    "\n",
    "df[\"option2\"].replace({True: 1, False: 0,},inplace=True)\n",
    "\n",
    "Option_2=pd.DataFrame()\n",
    "\n",
    "Option_2['OrderId'] = df['OrderId']\n",
    "Option_2['year_month'] = df['month']\n",
    "Option_2['option2'] = df['option2']\n",
    "\n",
    "Option_2 = Option_2.set_index(\"option2\")\n",
    "Option_2=Option_2.drop(0)\n",
    "Option_2=Option_2.reset_index()\n",
    "\n",
    "Option_2_group=Option_2.groupby(['year_month']).size()\n",
    "Option_2_group.head()\n",
    "\n",
    "Option_2_group=Option_2_group.to_frame().reset_index()\n",
    "Option_2_group.rename(columns={0:'Delivery_Opt_2'},inplace=True)\n",
    "# Option_1_group.columns('month','Orders_Opt_1')\n",
    "Option_2_group.head()\n",
    "\n",
    "#A simple bar graph to see the distributions of data throught time. \n",
    "Option_2_group.plot(kind='bar', figsize=(13,5), stacked=True, grid='both',xlabel='Monthly Period',ylabel='Delivery_Opt_2')"
   ]
  },
  {
   "cell_type": "code",
   "execution_count": 112,
   "id": "c9798067",
   "metadata": {
    "scrolled": false
   },
   "outputs": [
    {
     "data": {
      "text/html": [
       "<div>\n",
       "<style scoped>\n",
       "    .dataframe tbody tr th:only-of-type {\n",
       "        vertical-align: middle;\n",
       "    }\n",
       "\n",
       "    .dataframe tbody tr th {\n",
       "        vertical-align: top;\n",
       "    }\n",
       "\n",
       "    .dataframe thead th {\n",
       "        text-align: right;\n",
       "    }\n",
       "</style>\n",
       "<table border=\"1\" class=\"dataframe\">\n",
       "  <thead>\n",
       "    <tr style=\"text-align: right;\">\n",
       "      <th></th>\n",
       "      <th>Delivery_Opt_2</th>\n",
       "      <th>Level_Affectedness</th>\n",
       "    </tr>\n",
       "  </thead>\n",
       "  <tbody>\n",
       "    <tr>\n",
       "      <th>Delivery_Opt_2</th>\n",
       "      <td>1.000000</td>\n",
       "      <td>-0.254246</td>\n",
       "    </tr>\n",
       "    <tr>\n",
       "      <th>Level_Affectedness</th>\n",
       "      <td>-0.254246</td>\n",
       "      <td>1.000000</td>\n",
       "    </tr>\n",
       "  </tbody>\n",
       "</table>\n",
       "</div>"
      ],
      "text/plain": [
       "                    Delivery_Opt_2  Level_Affectedness\n",
       "Delivery_Opt_2            1.000000           -0.254246\n",
       "Level_Affectedness       -0.254246            1.000000"
      ]
     },
     "execution_count": 112,
     "metadata": {},
     "output_type": "execute_result"
    }
   ],
   "source": [
    "# Insert the new data in the table of option1\n",
    "Option_2_group['Level_Affectedness']=Aff['Level_Affectedness']\n",
    "#let out the data before th pandemic\n",
    "Option_2_no_2019 = Option_2_group.iloc[24:,]\n",
    "\n",
    "Option_2_no_2019.reset_index()\n",
    "Option_2_no_2019.corr(method ='kendall')\n",
    "# Option_2_no_2019"
   ]
  },
  {
   "cell_type": "code",
   "execution_count": 101,
   "id": "f5540c43",
   "metadata": {},
   "outputs": [
    {
     "data": {
      "text/plain": [
       "<AxesSubplot:xlabel='Monthly Period', ylabel='Delivery_Opt_3'>"
      ]
     },
     "execution_count": 101,
     "metadata": {},
     "output_type": "execute_result"
    },
    {
     "data": {
      "image/png": "[encoded data removed]",
      "text/plain": [
       "<Figure size 936x360 with 1 Axes>"
      ]
     },
     "metadata": {
      "needs_background": "light"
     },
     "output_type": "display_data"
    }
   ],
   "source": [
    "df['option3'] = df['DeliveryOption']=='3'\n",
    "\n",
    "df[\"option3\"].replace({True: 1, False: 0,},inplace=True)\n",
    "\n",
    "Option_3=pd.DataFrame()\n",
    "\n",
    "Option_3['OrderId'] = df['OrderId']\n",
    "Option_3['year_month'] = df['month']\n",
    "Option_3['option3'] = df['option3']\n",
    "\n",
    "Option_3 = Option_3.set_index(\"option3\")\n",
    "Option_3=Option_3.drop(0)\n",
    "Option_3=Option_3.reset_index()\n",
    "\n",
    "Option_3_group=Option_3.groupby(['year_month']).size()\n",
    "Option_3_group.head()\n",
    "\n",
    "Option_3_group=Option_3_group.to_frame().reset_index()\n",
    "Option_3_group.rename(columns={0:'Delivery_Opt_3'},inplace=True)\n",
    "\n",
    "Option_3_group.head()\n",
    "\n",
    "#A simple bar graph to see the distributions of data throught time. \n",
    "Option_3_group.plot(kind='bar', figsize=(13,5), stacked=True, grid='both',xlabel='Monthly Period',ylabel='Delivery_Opt_3')"
   ]
  },
  {
   "cell_type": "code",
   "execution_count": 113,
   "id": "a534cff5",
   "metadata": {
    "scrolled": true
   },
   "outputs": [
    {
     "data": {
      "text/html": [
       "<div>\n",
       "<style scoped>\n",
       "    .dataframe tbody tr th:only-of-type {\n",
       "        vertical-align: middle;\n",
       "    }\n",
       "\n",
       "    .dataframe tbody tr th {\n",
       "        vertical-align: top;\n",
       "    }\n",
       "\n",
       "    .dataframe thead th {\n",
       "        text-align: right;\n",
       "    }\n",
       "</style>\n",
       "<table border=\"1\" class=\"dataframe\">\n",
       "  <thead>\n",
       "    <tr style=\"text-align: right;\">\n",
       "      <th></th>\n",
       "      <th>Delivery_Opt_3</th>\n",
       "      <th>Level_Affectedness</th>\n",
       "    </tr>\n",
       "  </thead>\n",
       "  <tbody>\n",
       "    <tr>\n",
       "      <th>Delivery_Opt_3</th>\n",
       "      <td>1.000000</td>\n",
       "      <td>-0.203397</td>\n",
       "    </tr>\n",
       "    <tr>\n",
       "      <th>Level_Affectedness</th>\n",
       "      <td>-0.203397</td>\n",
       "      <td>1.000000</td>\n",
       "    </tr>\n",
       "  </tbody>\n",
       "</table>\n",
       "</div>"
      ],
      "text/plain": [
       "                    Delivery_Opt_3  Level_Affectedness\n",
       "Delivery_Opt_3            1.000000           -0.203397\n",
       "Level_Affectedness       -0.203397            1.000000"
      ]
     },
     "execution_count": 113,
     "metadata": {},
     "output_type": "execute_result"
    }
   ],
   "source": [
    "# Insert the new data in the table of option1\n",
    "Option_3_group['Level_Affectedness']=Aff['Level_Affectedness']\n",
    "#let out the data before the pandemic\n",
    "Option_3_no_2019 = Option_3_group.iloc[24:,]\n",
    "\n",
    "Option_3_no_2019.reset_index()\n",
    "Option_3_no_2019.corr(method ='kendall')\n",
    "# Option_3_no_2019"
   ]
  },
  {
   "cell_type": "markdown",
   "id": "dfe8f33a",
   "metadata": {},
   "source": [
    "**We found that the correlation is low even using the Spearman method, in the three kinds of delivery.**\n",
    "\n",
    "*Even so I used the linear regression to make the forecast for March of 2021 for each delivery option*"
   ]
  },
  {
   "cell_type": "code",
   "execution_count": 247,
   "id": "09422fe9",
   "metadata": {},
   "outputs": [
    {
     "name": "stdout",
     "output_type": "stream",
     "text": [
      "[[-375.975]][3882.25]\n"
     ]
    }
   ],
   "source": [
    "#Start with the training of the model using the method fit\n",
    "\n",
    "#reshape the values of the columns of interest to use the method fit()\n",
    "nDelivery1=Option_1_no_2019['Delivery_Opt_1'].values.reshape(-1,1)\n",
    "\n",
    "Affectedness=Option_1_no_2019['Level_Affectedness'].values.reshape(-1,1)\n",
    "\n",
    "#creation of a instance for the LinearRegression function\n",
    "linear_regressor = LinearRegression()\n",
    "#Tell to the fit function the values to learn\n",
    "linear_regressor.fit(Affectedness,nDelivery1)\n",
    "\n",
    "#We can see the parameters estimates by the fit method\n",
    "print(str(linear_regressor.coef_)+str(linear_regressor.intercept_))"
   ]
  },
  {
   "cell_type": "code",
   "execution_count": 248,
   "id": "95221002",
   "metadata": {
    "scrolled": false
   },
   "outputs": [
    {
     "name": "stdout",
     "output_type": "stream",
     "text": [
      "[[3882.25]]\n"
     ]
    }
   ],
   "source": [
    "nuevo_x = np.array([0]) \n",
    "prediction1 = linear_regressor.predict(nuevo_x.reshape(-1,1))\n",
    "print(prediction1)"
   ]
  },
  {
   "cell_type": "markdown",
   "id": "d721c3fd",
   "metadata": {},
   "source": [
    "**In this case, we can project a demand of 3882 deliveries option one.**"
   ]
  },
  {
   "cell_type": "markdown",
   "id": "d23394ef",
   "metadata": {},
   "source": [
    "_______________________________________________________________________________________________________________________________"
   ]
  },
  {
   "cell_type": "code",
   "execution_count": 249,
   "id": "93b6466c",
   "metadata": {},
   "outputs": [
    {
     "name": "stdout",
     "output_type": "stream",
     "text": [
      "[[-204.4]][2014.]\n"
     ]
    }
   ],
   "source": [
    "#Start with the training of the model using the method fit\n",
    "\n",
    "#reshape the values of the columns of interest to use the method fit()\n",
    "nDelivery2=Option_2_no_2019['Delivery_Opt_2'].values.reshape(-1,1)\n",
    "\n",
    "Affectedness=Option_2_no_2019['Level_Affectedness'].values.reshape(-1,1)\n",
    "\n",
    "#creation of a instance for the LinearRegression function\n",
    "linear_regressor2 = LinearRegression()\n",
    "#Tell to the fit function the values to learn\n",
    "linear_regressor2.fit(Affectedness,nDelivery2)\n",
    "\n",
    "#We can see the parameters estimates by the fit method\n",
    "print(str(linear_regressor2.coef_)+str(linear_regressor2.intercept_))"
   ]
  },
  {
   "cell_type": "code",
   "execution_count": 251,
   "id": "80b47001",
   "metadata": {
    "scrolled": false
   },
   "outputs": [
    {
     "name": "stdout",
     "output_type": "stream",
     "text": [
      "[[2014.]]\n"
     ]
    }
   ],
   "source": [
    "nuevo_x = np.array([0]) \n",
    "prediction2 = linear_regressor2.predict(nuevo_x.reshape(-1,1))\n",
    "\n",
    "print(prediction2)"
   ]
  },
  {
   "cell_type": "markdown",
   "id": "6cba2e3a",
   "metadata": {},
   "source": [
    "**In this case, we can project a demand of 2014 deliveries option two.**"
   ]
  },
  {
   "cell_type": "markdown",
   "id": "60d6c1c1",
   "metadata": {},
   "source": [
    "_______________________________________________________________________________________________________________________________"
   ]
  },
  {
   "cell_type": "code",
   "execution_count": 252,
   "id": "5adf1ca6",
   "metadata": {
    "scrolled": false
   },
   "outputs": [
    {
     "name": "stdout",
     "output_type": "stream",
     "text": [
      "[[-86.625]][879.75]\n"
     ]
    }
   ],
   "source": [
    "#Start with the training of the model using the method fit\n",
    "\n",
    "#reshape the values of the columns of interest to use the method fit()\n",
    "nDelivery3=Option_3_no_2019['Delivery_Opt_3'].values.reshape(-1,1)\n",
    "\n",
    "Affectedness=Option_3_no_2019['Level_Affectedness'].values.reshape(-1,1)\n",
    "\n",
    "#creation of a instance for the LinearRegression function\n",
    "linear_regressor3 = LinearRegression()\n",
    "#Tell to the fit function the values to learn\n",
    "linear_regressor3.fit(Affectedness,nDelivery3)\n",
    "\n",
    "#We can see the parameters estimates by the fit method\n",
    "print(str(linear_regressor3.coef_)+str(linear_regressor3.intercept_))"
   ]
  },
  {
   "cell_type": "code",
   "execution_count": 253,
   "id": "f56c8faf",
   "metadata": {},
   "outputs": [
    {
     "name": "stdout",
     "output_type": "stream",
     "text": [
      "[[879.75]]\n"
     ]
    }
   ],
   "source": [
    "nuevo_x = np.array([0]) \n",
    "prediction3 = linear_regressor3.predict(nuevo_x.reshape(-1,1))\n",
    "\n",
    "print(prediction3)"
   ]
  },
  {
   "cell_type": "markdown",
   "id": "26034a94",
   "metadata": {},
   "source": [
    "**In this case, we can project a demand of 879.75 deliveries option three.**"
   ]
  },
  {
   "cell_type": "markdown",
   "id": "c37bad3a",
   "metadata": {},
   "source": [
    "_______________________________________________________________________________________________________________________________"
   ]
  },
  {
   "cell_type": "code",
   "execution_count": 262,
   "id": "ae9ef391",
   "metadata": {
    "scrolled": true
   },
   "outputs": [
    {
     "data": {
      "text/plain": [
       "array([[7.52777778]])"
      ]
     },
     "execution_count": 262,
     "metadata": {},
     "output_type": "execute_result"
    }
   ],
   "source": [
    "#turn numpy array in integer\n",
    "deliveries_Option1=prediction1.astype(int)\n",
    "#the forecast of deliveries is divided by the number of days, the number of hours and finally the number \n",
    "workers_Opc1=((deliveries_Option1/30)/6)/5\n",
    "\n",
    "deliveries_Option2=prediction2.astype(int)\n",
    "workers_Opc2=((deliveries_Option2/30)/6)/5\n",
    "\n",
    "deliveries_Option3=prediction3.astype(int)\n",
    "workers_Opc3=((deliveries_Option3/30)/6)/5\n",
    "\n",
    "Total_workers=workers_Opc1+workers_Opc2+workers_Opc3\n",
    "Total_workers"
   ]
  },
  {
   "cell_type": "markdown",
   "id": "3fddba69",
   "metadata": {},
   "source": [
    "### Conclusions"
   ]
  },
  {
   "cell_type": "markdown",
   "id": "c259b4a1",
   "metadata": {},
   "source": [
    "*Finally we divided the orders in days, hours and the productivity of each worker to know how many workers we are probably need for March of 2021. So I reconmend have 8 workers per day to pick up the orders:*\n",
    "1. Four in the afternoon, 4 for the deliveries of \n",
    "2. Three in the mornings: two for the deliveries of option one, and one for the deliveries of option two.\n",
    "\n",
    "Probably is going to be necessary another worker for the afternoons."
   ]
  }
 ],
 "metadata": {
  "kernelspec": {
   "display_name": "Python 3",
   "language": "python",
   "name": "python3"
  },
  "language_info": {
   "codemirror_mode": {
    "name": "ipython",
    "version": 3
   },
   "file_extension": ".py",
   "mimetype": "text/x-python",
   "name": "python",
   "nbconvert_exporter": "python",
   "pygments_lexer": "ipython3",
   "version": "3.8.12"
  }
 },
 "nbformat": 4,
 "nbformat_minor": 5
}
